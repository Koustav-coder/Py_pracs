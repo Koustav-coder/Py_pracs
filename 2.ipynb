{
 "cells": [
  {
   "cell_type": "markdown",
   "id": "c3778e6d",
   "metadata": {},
   "source": [
    "# Day 2 Python coding question:\n",
    "LESSER OF TWO EVENS: Write a function that returns the lesser of two given numbers if both numbers are even, but returns the greater if one or both numbers are odd.\n",
    "Desired output:\n",
    "lesser_of_two_evens(2,4)---> 2\n",
    "lesser_of_two_evens(2,3)---> 3\n",
    "lesser_of_two_evens(3,4)---> 4"
   ]
  },
  {
   "cell_type": "code",
   "execution_count": 1,
   "id": "bc7a10a8",
   "metadata": {},
   "outputs": [],
   "source": [
    "def lesser_of_two_evens(n1,n2):\n",
    "    if n1%2==0 and n2%2==0:\n",
    "        return min(n1,n2)\n",
    "    else:\n",
    "        return max(n1,n2)"
   ]
  },
  {
   "cell_type": "code",
   "execution_count": 2,
   "id": "f4698cb7",
   "metadata": {},
   "outputs": [
    {
     "data": {
      "text/plain": [
       "3"
      ]
     },
     "execution_count": 2,
     "metadata": {},
     "output_type": "execute_result"
    }
   ],
   "source": [
    "lesser_of_two_evens(2,3)"
   ]
  },
  {
   "cell_type": "code",
   "execution_count": 3,
   "id": "e7642211",
   "metadata": {},
   "outputs": [
    {
     "data": {
      "text/plain": [
       "2"
      ]
     },
     "execution_count": 3,
     "metadata": {},
     "output_type": "execute_result"
    }
   ],
   "source": [
    "lesser_of_two_evens(2,4)"
   ]
  },
  {
   "cell_type": "code",
   "execution_count": 4,
   "id": "a489ebf5",
   "metadata": {},
   "outputs": [
    {
     "data": {
      "text/plain": [
       "4"
      ]
     },
     "execution_count": 4,
     "metadata": {},
     "output_type": "execute_result"
    }
   ],
   "source": [
    "lesser_of_two_evens(3,4)"
   ]
  },
  {
   "cell_type": "code",
   "execution_count": 5,
   "id": "d4c9aee6",
   "metadata": {},
   "outputs": [
    {
     "data": {
      "text/plain": [
       "7"
      ]
     },
     "execution_count": 5,
     "metadata": {},
     "output_type": "execute_result"
    }
   ],
   "source": [
    "lesser_of_two_evens(7,3)"
   ]
  },
  {
   "cell_type": "code",
   "execution_count": null,
   "id": "2d991220",
   "metadata": {},
   "outputs": [],
   "source": []
  }
 ],
 "metadata": {
  "kernelspec": {
   "display_name": "Python 3",
   "language": "python",
   "name": "python3"
  },
  "language_info": {
   "codemirror_mode": {
    "name": "ipython",
    "version": 3
   },
   "file_extension": ".py",
   "mimetype": "text/x-python",
   "name": "python",
   "nbconvert_exporter": "python",
   "pygments_lexer": "ipython3",
   "version": "3.8.8"
  }
 },
 "nbformat": 4,
 "nbformat_minor": 5
}
