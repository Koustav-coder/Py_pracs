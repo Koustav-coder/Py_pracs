{
 "cells": [
  {
   "cell_type": "markdown",
   "id": "21da67a3",
   "metadata": {},
   "source": [
    "# ********DAY 22********\n",
    "Python coding question:\n",
    "\n",
    "Write a function in Python that accepts a list of any length that contains a mix of non-negative integers and strings.\n",
    "The function should return a list with only the integers in the original list in the same order.\n"
   ]
  },
  {
   "cell_type": "code",
   "execution_count": 1,
   "id": "8f6f2c60",
   "metadata": {},
   "outputs": [],
   "source": [
    "def mylist(*args):\n",
    "    integer_type_list = [i for i in args if type(i) is int]\n",
    "    if len(integer_type_list) > 0: \n",
    "        return integer_type_list\n",
    "    else: \n",
    "        return 'Dude!! No Integer found'\n"
   ]
  },
  {
   "cell_type": "code",
   "execution_count": 2,
   "id": "76d51489",
   "metadata": {},
   "outputs": [
    {
     "name": "stdout",
     "output_type": "stream",
     "text": [
      "[18, 89, 56]\n"
     ]
    }
   ],
   "source": [
    "print(mylist('PySpark','SQL',18,89,'Data','Airflow',56,'Kafka'))"
   ]
  },
  {
   "cell_type": "code",
   "execution_count": 3,
   "id": "ce9696e4",
   "metadata": {},
   "outputs": [
    {
     "name": "stdout",
     "output_type": "stream",
     "text": [
      "Dude!! No Integer found\n"
     ]
    }
   ],
   "source": [
    "print(mylist('Big Data','Data Science'))"
   ]
  },
  {
   "cell_type": "code",
   "execution_count": null,
   "id": "25c1785f",
   "metadata": {},
   "outputs": [],
   "source": []
  }
 ],
 "metadata": {
  "kernelspec": {
   "display_name": "Python 3",
   "language": "python",
   "name": "python3"
  },
  "language_info": {
   "codemirror_mode": {
    "name": "ipython",
    "version": 3
   },
   "file_extension": ".py",
   "mimetype": "text/x-python",
   "name": "python",
   "nbconvert_exporter": "python",
   "pygments_lexer": "ipython3",
   "version": "3.8.8"
  }
 },
 "nbformat": 4,
 "nbformat_minor": 5
}
