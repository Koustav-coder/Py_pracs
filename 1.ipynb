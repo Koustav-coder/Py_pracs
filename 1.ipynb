{
 "cells": [
  {
   "cell_type": "markdown",
   "id": "d6a9544e",
   "metadata": {},
   "source": [
    "# Day-1 Python coding question:\n",
    "Given a list of integers, return True if the array contains a 3 next to a 3 somewhere.\n",
    "Desired output:\n",
    "has_33([1, 3, 3]) → True\n",
    "has_33([1, 3, 1, 3]) → False\n",
    "has_33([3, 1, 3]) → False\n",
    "has_33([3,3,1]) → True\n"
   ]
  },
  {
   "cell_type": "code",
   "execution_count": 1,
   "id": "021300a6",
   "metadata": {},
   "outputs": [],
   "source": [
    "def has_33(nums):\n",
    "    for i in range (len(nums)-1):\n",
    "        if nums[i] == 3 and nums[i+1]==3 :\n",
    "            return True\n",
    "    return False\n",
    "     "
   ]
  },
  {
   "cell_type": "code",
   "execution_count": 2,
   "id": "3c4cd1ab",
   "metadata": {},
   "outputs": [
    {
     "name": "stdout",
     "output_type": "stream",
     "text": [
      "True\n"
     ]
    }
   ],
   "source": [
    "nums=[1,3,3]\n",
    "print(has_33(nums))"
   ]
  },
  {
   "cell_type": "code",
   "execution_count": 3,
   "id": "71699996",
   "metadata": {},
   "outputs": [
    {
     "name": "stdout",
     "output_type": "stream",
     "text": [
      "False\n"
     ]
    }
   ],
   "source": [
    "nums=[1,3,1,3]\n",
    "print(has_33(nums))"
   ]
  },
  {
   "cell_type": "code",
   "execution_count": 4,
   "id": "498bae7f",
   "metadata": {},
   "outputs": [
    {
     "name": "stdout",
     "output_type": "stream",
     "text": [
      "True\n"
     ]
    }
   ],
   "source": [
    "nums=[1,3,1,3,3]\n",
    "print(has_33(nums))"
   ]
  },
  {
   "cell_type": "code",
   "execution_count": 5,
   "id": "7557d007",
   "metadata": {},
   "outputs": [
    {
     "name": "stdout",
     "output_type": "stream",
     "text": [
      "True\n"
     ]
    }
   ],
   "source": [
    "nums=[3,3,1]\n",
    "print(has_33(nums))"
   ]
  },
  {
   "cell_type": "code",
   "execution_count": null,
   "id": "c34431dc",
   "metadata": {},
   "outputs": [],
   "source": []
  }
 ],
 "metadata": {
  "kernelspec": {
   "display_name": "Python 3",
   "language": "python",
   "name": "python3"
  },
  "language_info": {
   "codemirror_mode": {
    "name": "ipython",
    "version": 3
   },
   "file_extension": ".py",
   "mimetype": "text/x-python",
   "name": "python",
   "nbconvert_exporter": "python",
   "pygments_lexer": "ipython3",
   "version": "3.8.8"
  }
 },
 "nbformat": 4,
 "nbformat_minor": 5
}
