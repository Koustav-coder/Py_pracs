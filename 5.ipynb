{
 "cells": [
  {
   "cell_type": "markdown",
   "id": "727278f9",
   "metadata": {},
   "source": [
    "# Day 5 Python coding question:\n",
    "Write a function takes a two-word string and returns True if both words begin with same letter\n",
    "animal_crackers('Crazy Chocolate') --> True\n",
    "animal_crackers('Lazy Dog') --> False"
   ]
  },
  {
   "cell_type": "code",
   "execution_count": 1,
   "id": "09d61f0d",
   "metadata": {},
   "outputs": [],
   "source": [
    "def animal_crackers(string):\n",
    "    s1, s2 = string.split(' ')\n",
    "    print(s1[0].lower() == s2[0].lower())\n"
   ]
  },
  {
   "cell_type": "code",
   "execution_count": 2,
   "id": "c345298d",
   "metadata": {},
   "outputs": [
    {
     "name": "stdout",
     "output_type": "stream",
     "text": [
      "True\n"
     ]
    }
   ],
   "source": [
    "animal_crackers(\"Crazy chocolate\")"
   ]
  },
  {
   "cell_type": "code",
   "execution_count": 3,
   "id": "6a54afa9",
   "metadata": {},
   "outputs": [
    {
     "name": "stdout",
     "output_type": "stream",
     "text": [
      "True\n"
     ]
    }
   ],
   "source": [
    "animal_crackers(\"Crazy Chocolate\")"
   ]
  },
  {
   "cell_type": "code",
   "execution_count": 4,
   "id": "fafe4a1f",
   "metadata": {},
   "outputs": [
    {
     "name": "stdout",
     "output_type": "stream",
     "text": [
      "False\n"
     ]
    }
   ],
   "source": [
    "animal_crackers(\"Lazy Dog\")"
   ]
  },
  {
   "cell_type": "code",
   "execution_count": 5,
   "id": "51d32ef7",
   "metadata": {},
   "outputs": [
    {
     "name": "stdout",
     "output_type": "stream",
     "text": [
      "False\n"
     ]
    }
   ],
   "source": [
    "animal_crackers(\"123 Dog\")"
   ]
  },
  {
   "cell_type": "code",
   "execution_count": 6,
   "id": "5c9147e8",
   "metadata": {},
   "outputs": [
    {
     "name": "stdout",
     "output_type": "stream",
     "text": [
      "True\n"
     ]
    }
   ],
   "source": [
    "animal_crackers(\"123 123\")"
   ]
  },
  {
   "cell_type": "code",
   "execution_count": null,
   "id": "c1a3d400",
   "metadata": {},
   "outputs": [],
   "source": []
  }
 ],
 "metadata": {
  "kernelspec": {
   "display_name": "Python 3",
   "language": "python",
   "name": "python3"
  },
  "language_info": {
   "codemirror_mode": {
    "name": "ipython",
    "version": 3
   },
   "file_extension": ".py",
   "mimetype": "text/x-python",
   "name": "python",
   "nbconvert_exporter": "python",
   "pygments_lexer": "ipython3",
   "version": "3.8.8"
  }
 },
 "nbformat": 4,
 "nbformat_minor": 5
}
