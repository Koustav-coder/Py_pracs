{
 "cells": [
  {
   "cell_type": "markdown",
   "id": "dcd35605",
   "metadata": {},
   "source": [
    "# ********DAY 26********\n",
    "Python coding question:\n",
    "\n",
    "Write a program to print the Fibonacci series.\n",
    "The Fibonacci numbers are the numbers in the following integer sequence.\n",
    "0, 1, 1, 2, 3, 5, 8, 13, 21, 34, 55, 89, 144, ……..\n",
    "In mathematical terms, the sequence Fn of Fibonacci numbers is defined by the recurrence relation \n",
    "Fn = Fn-1 + Fn-2\n",
    "with seed values  \n",
    "F0 = 0 and F1 = 1"
   ]
  },
  {
   "cell_type": "code",
   "execution_count": 1,
   "id": "ef421023",
   "metadata": {},
   "outputs": [],
   "source": [
    "def fibo(n):\n",
    "    f0,f1 = 0,1\n",
    "    while(n>0):\n",
    "        print(f0,end=\",\")\n",
    "        f0,f1 = f1,f1+f0\n",
    "        n = n-1\n",
    "\n"
   ]
  },
  {
   "cell_type": "code",
   "execution_count": 2,
   "id": "3ffa820a",
   "metadata": {},
   "outputs": [
    {
     "name": "stdout",
     "output_type": "stream",
     "text": [
      "0,1,1,2,3,5,8,13,21,34,"
     ]
    }
   ],
   "source": [
    "fibo(10)"
   ]
  },
  {
   "cell_type": "code",
   "execution_count": null,
   "id": "b854df9d",
   "metadata": {},
   "outputs": [],
   "source": []
  }
 ],
 "metadata": {
  "kernelspec": {
   "display_name": "Python 3",
   "language": "python",
   "name": "python3"
  },
  "language_info": {
   "codemirror_mode": {
    "name": "ipython",
    "version": 3
   },
   "file_extension": ".py",
   "mimetype": "text/x-python",
   "name": "python",
   "nbconvert_exporter": "python",
   "pygments_lexer": "ipython3",
   "version": "3.8.8"
  }
 },
 "nbformat": 4,
 "nbformat_minor": 5
}
