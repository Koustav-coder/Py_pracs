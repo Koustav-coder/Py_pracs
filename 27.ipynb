{
 "cells": [
  {
   "cell_type": "markdown",
   "id": "9c411a1b",
   "metadata": {},
   "source": [
    "# ********DAY 27********\n",
    "Python coding question:\n",
    "\n",
    "Given an input by the user in the form of a positive integer, the program should print out a triangle-shaped pattern made of the star character (*). The input should be stored in a variable called N. N represents the number of rows in the pattern. The number of stars in each row increases by 2 each time.\n",
    "\n",
    "For example:\n",
    "If N = 3\n",
    "*\n",
    "***\n",
    "*****"
   ]
  },
  {
   "cell_type": "code",
   "execution_count": 1,
   "id": "31bfdc36",
   "metadata": {},
   "outputs": [],
   "source": [
    "def pypart(n):\n",
    "    for i in range(0, n):\n",
    "        for j in range(0, i+1):\n",
    "            print(\"*\",end=\"\")\n",
    "        print(\"\\r\")\n",
    "    "
   ]
  },
  {
   "cell_type": "code",
   "execution_count": 2,
   "id": "13472ab3",
   "metadata": {},
   "outputs": [
    {
     "name": "stdout",
     "output_type": "stream",
     "text": [
      "*\r\n",
      "**\r\n",
      "***\r\n"
     ]
    }
   ],
   "source": [
    "pypart(3)"
   ]
  },
  {
   "cell_type": "code",
   "execution_count": null,
   "id": "bb793fd3",
   "metadata": {},
   "outputs": [],
   "source": []
  }
 ],
 "metadata": {
  "kernelspec": {
   "display_name": "Python 3",
   "language": "python",
   "name": "python3"
  },
  "language_info": {
   "codemirror_mode": {
    "name": "ipython",
    "version": 3
   },
   "file_extension": ".py",
   "mimetype": "text/x-python",
   "name": "python",
   "nbconvert_exporter": "python",
   "pygments_lexer": "ipython3",
   "version": "3.8.8"
  }
 },
 "nbformat": 4,
 "nbformat_minor": 5
}
