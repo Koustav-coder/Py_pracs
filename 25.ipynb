{
 "cells": [
  {
   "cell_type": "markdown",
   "id": "7463ba82",
   "metadata": {},
   "source": [
    "# ********DAY 25********\n",
    "Python coding question:\n",
    "\n",
    "Write a program to print all the prime numbers between 0 to N.\n",
    "N being any integer.\n"
   ]
  },
  {
   "cell_type": "code",
   "execution_count": 1,
   "id": "fa7f7f8f",
   "metadata": {},
   "outputs": [
    {
     "name": "stdout",
     "output_type": "stream",
     "text": [
      "2 3 5 7 11 13 17 19 23 29 31 37 41 43 47 "
     ]
    }
   ],
   "source": [
    "def isPrime(n):\n",
    "    if(n==1 or n==0):\n",
    "        return False\n",
    "    for i in range(2,n):\n",
    "        if(n%i==0):\n",
    "            return False\n",
    "    return True\n",
    "\n",
    "N = 50;\n",
    "\n",
    "for i in range(0,N+1):\n",
    " \n",
    "  if(isPrime(i)):\n",
    "    print(i,end=\" \")"
   ]
  },
  {
   "cell_type": "code",
   "execution_count": null,
   "id": "f3521e8a",
   "metadata": {},
   "outputs": [],
   "source": []
  }
 ],
 "metadata": {
  "kernelspec": {
   "display_name": "Python 3",
   "language": "python",
   "name": "python3"
  },
  "language_info": {
   "codemirror_mode": {
    "name": "ipython",
    "version": 3
   },
   "file_extension": ".py",
   "mimetype": "text/x-python",
   "name": "python",
   "nbconvert_exporter": "python",
   "pygments_lexer": "ipython3",
   "version": "3.8.8"
  }
 },
 "nbformat": 4,
 "nbformat_minor": 5
}
