{
 "cells": [
  {
   "cell_type": "markdown",
   "id": "34fdae00",
   "metadata": {},
   "source": [
    "# ********DAY 29********\n",
    "Python coding question:\n",
    "\n",
    "Create a function called sumOfTwo(a, b, v) with 3 parameters.\n",
    "a is a list of numbers values, such as [22, 341, 21, 5, 0, -5].\n",
    "b is also a list of number values, just like a.\n",
    "a and b can be anything; negative, a float, etc.\n",
    "v is a single number value.\n",
    "The function should check if it is possible to take one number from both list a and b, and add the numbers together to equal the number v.\n",
    "If there are 2 numbers that can do this, print “True”. Otherwise, print “False”.\n",
    "For example:\n",
    "sumOfTwo([1, 2, 3], [10, 20, 30], 23)\n",
    "The output would be “True” because 2 + 20 = 23."
   ]
  },
  {
   "cell_type": "code",
   "execution_count": 4,
   "id": "ff33fa4a",
   "metadata": {},
   "outputs": [
    {
     "ename": "SyntaxError",
     "evalue": "invalid syntax (<ipython-input-4-34903087b441>, line 4)",
     "output_type": "error",
     "traceback": [
      "\u001b[1;36m  File \u001b[1;32m\"<ipython-input-4-34903087b441>\"\u001b[1;36m, line \u001b[1;32m4\u001b[0m\n\u001b[1;33m    i+j==v? True : False\u001b[0m\n\u001b[1;37m          ^\u001b[0m\n\u001b[1;31mSyntaxError\u001b[0m\u001b[1;31m:\u001b[0m invalid syntax\n"
     ]
    }
   ],
   "source": [
    "def sumOfTwo(a,b,v):\n",
    "    for i in a:\n",
    "        for j in b:\n",
    "            if i+j==v:\n",
    "                return True\n",
    "    return False"
   ]
  },
  {
   "cell_type": "code",
   "execution_count": 2,
   "id": "449af395",
   "metadata": {},
   "outputs": [
    {
     "name": "stdout",
     "output_type": "stream",
     "text": [
      "True\n"
     ]
    }
   ],
   "source": [
    "print(sumOfTwo([1, 2, 3], [10, 20, 30], 23) )"
   ]
  },
  {
   "cell_type": "code",
   "execution_count": 3,
   "id": "6d8f80b3",
   "metadata": {},
   "outputs": [
    {
     "name": "stdout",
     "output_type": "stream",
     "text": [
      "False\n"
     ]
    }
   ],
   "source": [
    "print(sumOfTwo([1, 2, 3], [10, 20, 30], 27) )"
   ]
  },
  {
   "cell_type": "code",
   "execution_count": null,
   "id": "5aa6acf3",
   "metadata": {},
   "outputs": [],
   "source": []
  }
 ],
 "metadata": {
  "kernelspec": {
   "display_name": "Python 3",
   "language": "python",
   "name": "python3"
  },
  "language_info": {
   "codemirror_mode": {
    "name": "ipython",
    "version": 3
   },
   "file_extension": ".py",
   "mimetype": "text/x-python",
   "name": "python",
   "nbconvert_exporter": "python",
   "pygments_lexer": "ipython3",
   "version": "3.8.8"
  }
 },
 "nbformat": 4,
 "nbformat_minor": 5
}
