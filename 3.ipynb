{
 "cells": [
  {
   "cell_type": "markdown",
   "id": "7ed5867f",
   "metadata": {},
   "source": [
    "# Day 3 Python coding question:\n",
    "Write a Python function that takes a list and returns a new list with unique elements of the first list.\n",
    "Sample List : [1,1,1,1,2,2,3,3,3,3,4,5]\n",
    "Unique List : [1, 2, 3, 4, 5]"
   ]
  },
  {
   "cell_type": "code",
   "execution_count": 1,
   "id": "f54dc3d0",
   "metadata": {},
   "outputs": [
    {
     "name": "stdout",
     "output_type": "stream",
     "text": [
      "1 2 3 4 5\n"
     ]
    }
   ],
   "source": [
    "#Using collections.Counter()\n",
    "from collections import Counter\n",
    "def unique_list(given_list):\n",
    "    print(*Counter(given_list))\n"
   ]
  },
  {
   "cell_type": "code",
   "execution_count": 2,
   "id": "2e86712b",
   "metadata": {},
   "outputs": [
    {
     "name": "stdout",
     "output_type": "stream",
     "text": [
      "1 2 3 4 5\n"
     ]
    }
   ],
   "source": [
    "given_list = [1,1,1,1,2,2,3,3,3,3,4,5] \n",
    "unique_list(given_list)"
   ]
  },
  {
   "cell_type": "code",
   "execution_count": null,
   "id": "481fe104",
   "metadata": {},
   "outputs": [],
   "source": []
  }
 ],
 "metadata": {
  "kernelspec": {
   "display_name": "Python 3",
   "language": "python",
   "name": "python3"
  },
  "language_info": {
   "codemirror_mode": {
    "name": "ipython",
    "version": 3
   },
   "file_extension": ".py",
   "mimetype": "text/x-python",
   "name": "python",
   "nbconvert_exporter": "python",
   "pygments_lexer": "ipython3",
   "version": "3.8.8"
  }
 },
 "nbformat": 4,
 "nbformat_minor": 5
}
