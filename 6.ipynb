{
 "cells": [
  {
   "cell_type": "markdown",
   "id": "e6535291",
   "metadata": {},
   "source": [
    "# Day 6 Python coding question:\n",
    "\n",
    "Write a function that takes in a list of integers and returns True if it contains 007 in order\n",
    " spy_game([1,2,4,0,0,7,5]) --> True\n",
    " spy_game([1,0,2,4,0,5,7]) --> True\n",
    " spy_game([1,7,2,0,4,5,0]) --> False\n"
   ]
  },
  {
   "cell_type": "code",
   "execution_count": 1,
   "id": "9af4ea8c",
   "metadata": {},
   "outputs": [],
   "source": [
    "def spy_game(nums):\n",
    "    for x in range(0,len(nums)):\n",
    "        first_0=nums.index(0)\n",
    "        second_0=nums.index(0, first_0+1)\n",
    "        seven=nums.index(7)\n",
    "        if nums[first_0:second_0+1]!=seven and seven>second_0:\n",
    "            return True\n",
    "        else:\n",
    "            return False"
   ]
  },
  {
   "cell_type": "code",
   "execution_count": 2,
   "id": "bbbcb9b4",
   "metadata": {},
   "outputs": [
    {
     "name": "stdout",
     "output_type": "stream",
     "text": [
      "True\n"
     ]
    }
   ],
   "source": [
    "print(spy_game([1,2,4,0,0,7,5]))"
   ]
  },
  {
   "cell_type": "code",
   "execution_count": 3,
   "id": "99a74b08",
   "metadata": {},
   "outputs": [
    {
     "name": "stdout",
     "output_type": "stream",
     "text": [
      "True\n"
     ]
    }
   ],
   "source": [
    "print(spy_game([1,0,2,4,0,5,7]))"
   ]
  },
  {
   "cell_type": "code",
   "execution_count": 4,
   "id": "14686f38",
   "metadata": {},
   "outputs": [
    {
     "name": "stdout",
     "output_type": "stream",
     "text": [
      "False\n"
     ]
    }
   ],
   "source": [
    "print(spy_game([1,7,2,0,4,5,0]))"
   ]
  },
  {
   "cell_type": "code",
   "execution_count": 5,
   "id": "16f0a2a5",
   "metadata": {},
   "outputs": [
    {
     "name": "stdout",
     "output_type": "stream",
     "text": [
      "True\n"
     ]
    }
   ],
   "source": [
    "print(spy_game([1,0,2,4,5,4,3,0,1,15,0,0,5,7]))"
   ]
  },
  {
   "cell_type": "code",
   "execution_count": null,
   "id": "1e6df1a8",
   "metadata": {},
   "outputs": [],
   "source": []
  }
 ],
 "metadata": {
  "kernelspec": {
   "display_name": "Python 3",
   "language": "python",
   "name": "python3"
  },
  "language_info": {
   "codemirror_mode": {
    "name": "ipython",
    "version": 3
   },
   "file_extension": ".py",
   "mimetype": "text/x-python",
   "name": "python",
   "nbconvert_exporter": "python",
   "pygments_lexer": "ipython3",
   "version": "3.8.8"
  }
 },
 "nbformat": 4,
 "nbformat_minor": 5
}
