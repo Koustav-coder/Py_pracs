{
 "cells": [
  {
   "cell_type": "markdown",
   "id": "1a87a394",
   "metadata": {},
   "source": [
    "# ********DAY 20********\n",
    "Python coding question:\n",
    "\n",
    "Write a function in Python that accepts a credit card number. \n",
    "It should return a string where all the characters are hidden with an asterisk except the last four. \n",
    "For example, if the function gets sent \"4444444444444444\", then it should return \"4444\".\n"
   ]
  },
  {
   "cell_type": "code",
   "execution_count": 1,
   "id": "30e2f3b3",
   "metadata": {},
   "outputs": [],
   "source": [
    "def credit_card(card_num):\n",
    "    return card_num[-4:] "
   ]
  },
  {
   "cell_type": "code",
   "execution_count": 2,
   "id": "0ab65057",
   "metadata": {},
   "outputs": [
    {
     "data": {
      "text/plain": [
       "'7809'"
      ]
     },
     "execution_count": 2,
     "metadata": {},
     "output_type": "execute_result"
    }
   ],
   "source": [
    "credit_card('1234567809')"
   ]
  },
  {
   "cell_type": "code",
   "execution_count": 3,
   "id": "8ba6c454",
   "metadata": {},
   "outputs": [
    {
     "data": {
      "text/plain": [
       "'4444'"
      ]
     },
     "execution_count": 3,
     "metadata": {},
     "output_type": "execute_result"
    }
   ],
   "source": [
    "credit_card('4444444444444444')"
   ]
  },
  {
   "cell_type": "code",
   "execution_count": null,
   "id": "fe3a3a4e",
   "metadata": {},
   "outputs": [],
   "source": []
  }
 ],
 "metadata": {
  "kernelspec": {
   "display_name": "Python 3",
   "language": "python",
   "name": "python3"
  },
  "language_info": {
   "codemirror_mode": {
    "name": "ipython",
    "version": 3
   },
   "file_extension": ".py",
   "mimetype": "text/x-python",
   "name": "python",
   "nbconvert_exporter": "python",
   "pygments_lexer": "ipython3",
   "version": "3.8.8"
  }
 },
 "nbformat": 4,
 "nbformat_minor": 5
}
