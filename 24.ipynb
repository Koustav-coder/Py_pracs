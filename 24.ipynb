{
 "cells": [
  {
   "cell_type": "markdown",
   "id": "4a2b1d7a",
   "metadata": {},
   "source": [
    "# ********DAY 24********\n",
    "Python coding question:\n",
    "\n",
    "Write a program to find the sum of squares of first 'n' natural numbers.\n",
    "Input : N = 4\n",
    "Output : 30\n"
   ]
  },
  {
   "cell_type": "code",
   "execution_count": 1,
   "id": "a0a6f936",
   "metadata": {},
   "outputs": [],
   "source": [
    "def sum_sq(N):\n",
    "    if type(N) is int:\n",
    "        sum = 0\n",
    "        for i in range(0,N):\n",
    "            sum+=((i+1)**2)\n",
    "        return (sum)\n",
    "    else:\n",
    "        return 'Invalid data type'"
   ]
  },
  {
   "cell_type": "code",
   "execution_count": 2,
   "id": "33d58489",
   "metadata": {},
   "outputs": [
    {
     "data": {
      "text/plain": [
       "30"
      ]
     },
     "execution_count": 2,
     "metadata": {},
     "output_type": "execute_result"
    }
   ],
   "source": [
    "sum_sq(4)"
   ]
  },
  {
   "cell_type": "code",
   "execution_count": null,
   "id": "698cfb0c",
   "metadata": {},
   "outputs": [],
   "source": []
  }
 ],
 "metadata": {
  "kernelspec": {
   "display_name": "Python 3",
   "language": "python",
   "name": "python3"
  },
  "language_info": {
   "codemirror_mode": {
    "name": "ipython",
    "version": 3
   },
   "file_extension": ".py",
   "mimetype": "text/x-python",
   "name": "python",
   "nbconvert_exporter": "python",
   "pygments_lexer": "ipython3",
   "version": "3.8.8"
  }
 },
 "nbformat": 4,
 "nbformat_minor": 5
}
