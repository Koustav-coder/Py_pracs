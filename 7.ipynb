{
 "cells": [
  {
   "cell_type": "markdown",
   "id": "2cfa57b7",
   "metadata": {},
   "source": [
    "# Day 7 Python coding question:\n",
    "\n",
    "Define a function called myfunc that takes in a string,\n",
    "and returns a matching string where every even letter is uppercase, and every odd letter is lowercase. \n",
    "Desired output:\n",
    "myfunc('aNiMaL')-->True "
   ]
  },
  {
   "cell_type": "code",
   "execution_count": 1,
   "id": "0aa29ea7",
   "metadata": {},
   "outputs": [],
   "source": [
    "def myfunc(word):\n",
    "  string= ''\n",
    "  for i in range(len(word)):\n",
    "    if(i%2!=0):\n",
    "      string += word[i].upper()\n",
    "    else:\n",
    "      string += word[i].lower()\n",
    "  if string==word:\n",
    "    return True\n",
    "  else:\n",
    "    return False"
   ]
  },
  {
   "cell_type": "code",
   "execution_count": 2,
   "id": "6db54e04",
   "metadata": {},
   "outputs": [
    {
     "name": "stdout",
     "output_type": "stream",
     "text": [
      "False\n"
     ]
    }
   ],
   "source": [
    "print(myfunc('animal'))"
   ]
  },
  {
   "cell_type": "code",
   "execution_count": 3,
   "id": "d2186885",
   "metadata": {},
   "outputs": [
    {
     "data": {
      "text/plain": [
       "True"
      ]
     },
     "execution_count": 3,
     "metadata": {},
     "output_type": "execute_result"
    }
   ],
   "source": [
    "myfunc('aNiMaL')"
   ]
  },
  {
   "cell_type": "code",
   "execution_count": null,
   "id": "6a145f64",
   "metadata": {},
   "outputs": [],
   "source": []
  }
 ],
 "metadata": {
  "kernelspec": {
   "display_name": "Python 3",
   "language": "python",
   "name": "python3"
  },
  "language_info": {
   "codemirror_mode": {
    "name": "ipython",
    "version": 3
   },
   "file_extension": ".py",
   "mimetype": "text/x-python",
   "name": "python",
   "nbconvert_exporter": "python",
   "pygments_lexer": "ipython3",
   "version": "3.8.8"
  }
 },
 "nbformat": 4,
 "nbformat_minor": 5
}
