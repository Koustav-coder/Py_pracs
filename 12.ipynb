{
 "cells": [
  {
   "cell_type": "markdown",
   "id": "e3be7cbd",
   "metadata": {},
   "source": [
    "# ********DAY 12********\n",
    "Python coding question:\n",
    "\n",
    "Write a code to check whether a year is leap year or not.\n",
    "Note:A year that is evenly divisible by 100 is a leap year only if it is also evenly divisible by 400.\n",
    "\n",
    "Desired Output:\n",
    "is_leap(1994)-->not a Leap year\n",
    "is_leap(2100)-->not a Leap year\n",
    "is_leap(2000)—>Leap year\n"
   ]
  },
  {
   "cell_type": "code",
   "execution_count": 1,
   "id": "23f291ca",
   "metadata": {},
   "outputs": [],
   "source": [
    "def leapyr_or_not(yr):\n",
    "  if(yr % 400 == 0 or (yr % 4 == 0 and yr %100 != 0)):\n",
    "    print(\"Leap year\")\n",
    "  else:\n",
    "    print(\"not a Leap year\")\n"
   ]
  },
  {
   "cell_type": "code",
   "execution_count": 2,
   "id": "4c649019",
   "metadata": {},
   "outputs": [
    {
     "name": "stdout",
     "output_type": "stream",
     "text": [
      "Leap year\n"
     ]
    }
   ],
   "source": [
    "leapyr_or_not(2000)"
   ]
  },
  {
   "cell_type": "code",
   "execution_count": 3,
   "id": "2d9901c5",
   "metadata": {},
   "outputs": [
    {
     "name": "stdout",
     "output_type": "stream",
     "text": [
      "not a Leap year\n"
     ]
    }
   ],
   "source": [
    "leapyr_or_not(2100)"
   ]
  },
  {
   "cell_type": "code",
   "execution_count": 4,
   "id": "b8bd87c6",
   "metadata": {},
   "outputs": [
    {
     "name": "stdout",
     "output_type": "stream",
     "text": [
      "not a Leap year\n"
     ]
    }
   ],
   "source": [
    "leapyr_or_not(1994)"
   ]
  },
  {
   "cell_type": "code",
   "execution_count": 5,
   "id": "c9d6a22b",
   "metadata": {},
   "outputs": [
    {
     "name": "stdout",
     "output_type": "stream",
     "text": [
      "Leap year\n"
     ]
    }
   ],
   "source": [
    "leapyr_or_not(1996)"
   ]
  },
  {
   "cell_type": "code",
   "execution_count": null,
   "id": "3326e41d",
   "metadata": {},
   "outputs": [],
   "source": []
  }
 ],
 "metadata": {
  "kernelspec": {
   "display_name": "Python 3",
   "language": "python",
   "name": "python3"
  },
  "language_info": {
   "codemirror_mode": {
    "name": "ipython",
    "version": 3
   },
   "file_extension": ".py",
   "mimetype": "text/x-python",
   "name": "python",
   "nbconvert_exporter": "python",
   "pygments_lexer": "ipython3",
   "version": "3.8.8"
  }
 },
 "nbformat": 4,
 "nbformat_minor": 5
}
