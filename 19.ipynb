{
 "cells": [
  {
   "cell_type": "markdown",
   "id": "66289977",
   "metadata": {},
   "source": [
    "# ********DAY 19********\n",
    "Python coding question:\n",
    "\n",
    "BLACKJACK: Given three integers between 1 and 11,\n",
    "if their sum is less than or equal to 21, return their sum. \n",
    "If their sum exceeds 21 and there's an eleven, reduce the total sum by 10. \n",
    "Finally, if the sum (even after adjustment) exceeds 21, return 'BUST'\n",
    "blackjack(5,6,7) --> 18\n",
    "blackjack(9,9,9) --> 'BUST'\n",
    "blackjack(9,9,11) --> 19\n"
   ]
  },
  {
   "cell_type": "code",
   "execution_count": 1,
   "id": "2ddc2aa2",
   "metadata": {},
   "outputs": [],
   "source": [
    "def blackjack(x,y,z):\n",
    "    sum=int(x+y+z)\n",
    "    if sum < 21:\n",
    "        return sum\n",
    "    \n",
    "    elif sum > 21 and x == 11 or y == 11 or z == 11:\n",
    "        new_sum=sum-10\n",
    "        return new_sum\n",
    "    \n",
    "    else:\n",
    "        return \"BUST\""
   ]
  },
  {
   "cell_type": "code",
   "execution_count": 2,
   "id": "9a7290e2",
   "metadata": {},
   "outputs": [
    {
     "name": "stdout",
     "output_type": "stream",
     "text": [
      "18\n"
     ]
    }
   ],
   "source": [
    "print(blackjack(5, 6, 7))"
   ]
  },
  {
   "cell_type": "code",
   "execution_count": 3,
   "id": "4fd24b1b",
   "metadata": {},
   "outputs": [
    {
     "name": "stdout",
     "output_type": "stream",
     "text": [
      "BUST\n"
     ]
    }
   ],
   "source": [
    "print(blackjack(9, 9, 9))"
   ]
  },
  {
   "cell_type": "code",
   "execution_count": 4,
   "id": "059f9019",
   "metadata": {},
   "outputs": [
    {
     "name": "stdout",
     "output_type": "stream",
     "text": [
      "19\n"
     ]
    }
   ],
   "source": [
    "print(blackjack(9, 9, 11))"
   ]
  },
  {
   "cell_type": "code",
   "execution_count": null,
   "id": "dd4c95df",
   "metadata": {},
   "outputs": [],
   "source": []
  }
 ],
 "metadata": {
  "kernelspec": {
   "display_name": "Python 3",
   "language": "python",
   "name": "python3"
  },
  "language_info": {
   "codemirror_mode": {
    "name": "ipython",
    "version": 3
   },
   "file_extension": ".py",
   "mimetype": "text/x-python",
   "name": "python",
   "nbconvert_exporter": "python",
   "pygments_lexer": "ipython3",
   "version": "3.8.8"
  }
 },
 "nbformat": 4,
 "nbformat_minor": 5
}
