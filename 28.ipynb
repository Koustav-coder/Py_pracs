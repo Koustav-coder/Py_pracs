{
 "cells": [
  {
   "cell_type": "markdown",
   "id": "b57ba220",
   "metadata": {},
   "source": [
    "# ********DAY 28********\n",
    "Python coding question:\n",
    "\n",
    "Given a sentence or cluster of words, find out if there are any integers inside the string. Print out the total number of integers. If there’s at least 1 integer present, find the sum of all of the integers found and print out the sum.\n",
    "\n",
    "For example:\n",
    "If string = “200 plus 500 is equal to”\n",
    "2 integers found\n",
    "sum: 700"
   ]
  },
  {
   "cell_type": "code",
   "execution_count": 1,
   "id": "f76cdfd0",
   "metadata": {},
   "outputs": [],
   "source": [
    "def sum_int(s):\n",
    "    do_sum = 0\n",
    "    count = 0\n",
    "    for i in s.split():\n",
    "        if(i.isdigit()):\n",
    "            count = count+1\n",
    "            do_sum = do_sum+int(i)\n",
    "        else:\n",
    "            continue\n",
    "    print(count,\"integers found\")\n",
    "    return do_sum"
   ]
  },
  {
   "cell_type": "code",
   "execution_count": 2,
   "id": "788e16f7",
   "metadata": {},
   "outputs": [
    {
     "name": "stdout",
     "output_type": "stream",
     "text": [
      "2 integers found\n",
      "sum: 700\n"
     ]
    }
   ],
   "source": [
    "s = \"200 plus 500 is equal to\"\n",
    "print(\"sum:\",sum_int(s))"
   ]
  },
  {
   "cell_type": "code",
   "execution_count": null,
   "id": "5fb32463",
   "metadata": {},
   "outputs": [],
   "source": []
  }
 ],
 "metadata": {
  "kernelspec": {
   "display_name": "Python 3",
   "language": "python",
   "name": "python3"
  },
  "language_info": {
   "codemirror_mode": {
    "name": "ipython",
    "version": 3
   },
   "file_extension": ".py",
   "mimetype": "text/x-python",
   "name": "python",
   "nbconvert_exporter": "python",
   "pygments_lexer": "ipython3",
   "version": "3.8.8"
  }
 },
 "nbformat": 4,
 "nbformat_minor": 5
}
