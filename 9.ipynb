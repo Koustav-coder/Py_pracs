{
 "cells": [
  {
   "cell_type": "markdown",
   "id": "cbddb1f6",
   "metadata": {},
   "source": [
    "# Write a Python function that checks whether a word or phrase is palindrome or not.\n",
    "Example of Palindrome:\n",
    "Hannah\n",
    "Anna"
   ]
  },
  {
   "cell_type": "markdown",
   "id": "bd82ba3b",
   "metadata": {},
   "source": [
    "# Ignoring case sensitivity"
   ]
  },
  {
   "cell_type": "code",
   "execution_count": 1,
   "id": "01987280",
   "metadata": {},
   "outputs": [],
   "source": [
    "def is_palindrome(word):\n",
    "    word=word.lower()\n",
    "    if word == word[::-1]:\n",
    "        return True\n",
    "    return False"
   ]
  },
  {
   "cell_type": "code",
   "execution_count": 2,
   "id": "6a6767c3",
   "metadata": {},
   "outputs": [
    {
     "name": "stdout",
     "output_type": "stream",
     "text": [
      "False\n"
     ]
    }
   ],
   "source": [
    "print(is_palindrome('Maza'))"
   ]
  },
  {
   "cell_type": "code",
   "execution_count": 3,
   "id": "7ca1c584",
   "metadata": {},
   "outputs": [
    {
     "name": "stdout",
     "output_type": "stream",
     "text": [
      "True\n"
     ]
    }
   ],
   "source": [
    "print(is_palindrome('Anna'))"
   ]
  },
  {
   "cell_type": "code",
   "execution_count": 4,
   "id": "8a30901a",
   "metadata": {},
   "outputs": [
    {
     "name": "stdout",
     "output_type": "stream",
     "text": [
      "True\n"
     ]
    }
   ],
   "source": [
    "print(is_palindrome('anna'))"
   ]
  },
  {
   "cell_type": "markdown",
   "id": "7cdbcacf",
   "metadata": {},
   "source": [
    "# Cosidering case sensitivity"
   ]
  },
  {
   "cell_type": "code",
   "execution_count": 6,
   "id": "357996b6",
   "metadata": {},
   "outputs": [],
   "source": [
    "def is_palindrome(word):\n",
    "    if word == word[::-1]:\n",
    "        return True\n",
    "    return False"
   ]
  },
  {
   "cell_type": "code",
   "execution_count": 7,
   "id": "ddd06b74",
   "metadata": {},
   "outputs": [
    {
     "name": "stdout",
     "output_type": "stream",
     "text": [
      "False\n"
     ]
    }
   ],
   "source": [
    "print(is_palindrome('Anna'))"
   ]
  },
  {
   "cell_type": "code",
   "execution_count": 8,
   "id": "11c9b3f1",
   "metadata": {},
   "outputs": [
    {
     "name": "stdout",
     "output_type": "stream",
     "text": [
      "True\n"
     ]
    }
   ],
   "source": [
    "print(is_palindrome('anna'))"
   ]
  },
  {
   "cell_type": "code",
   "execution_count": null,
   "id": "c5147d0c",
   "metadata": {},
   "outputs": [],
   "source": []
  }
 ],
 "metadata": {
  "kernelspec": {
   "display_name": "Python 3",
   "language": "python",
   "name": "python3"
  },
  "language_info": {
   "codemirror_mode": {
    "name": "ipython",
    "version": 3
   },
   "file_extension": ".py",
   "mimetype": "text/x-python",
   "name": "python",
   "nbconvert_exporter": "python",
   "pygments_lexer": "ipython3",
   "version": "3.8.8"
  }
 },
 "nbformat": 4,
 "nbformat_minor": 5
}
