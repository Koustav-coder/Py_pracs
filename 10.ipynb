{
 "cells": [
  {
   "cell_type": "markdown",
   "id": "5982a60b",
   "metadata": {},
   "source": [
    "# ********DAY 10********\n",
    "Python coding question:\n",
    "\n",
    "Write a Python function to multiply all the numbers in a list.\n",
    "\n",
    "Sample List : [1, 2, 3, -4]\n",
    "Expected Output : -24"
   ]
  },
  {
   "cell_type": "code",
   "execution_count": 1,
   "id": "82fe35eb",
   "metadata": {},
   "outputs": [],
   "source": [
    "def multiply(numbers):  \n",
    "    result = 1\n",
    "    for i in numbers:\n",
    "        result *= i \n",
    "    return result  \n"
   ]
  },
  {
   "cell_type": "code",
   "execution_count": 2,
   "id": "4e4b12b0",
   "metadata": {},
   "outputs": [
    {
     "name": "stdout",
     "output_type": "stream",
     "text": [
      "-24\n"
     ]
    }
   ],
   "source": [
    "print(multiply((1, 2, 3, -4)))"
   ]
  },
  {
   "cell_type": "code",
   "execution_count": null,
   "id": "5ad20980",
   "metadata": {},
   "outputs": [],
   "source": []
  }
 ],
 "metadata": {
  "kernelspec": {
   "display_name": "Python 3",
   "language": "python",
   "name": "python3"
  },
  "language_info": {
   "codemirror_mode": {
    "name": "ipython",
    "version": 3
   },
   "file_extension": ".py",
   "mimetype": "text/x-python",
   "name": "python",
   "nbconvert_exporter": "python",
   "pygments_lexer": "ipython3",
   "version": "3.8.8"
  }
 },
 "nbformat": 4,
 "nbformat_minor": 5
}
