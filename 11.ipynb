{
 "cells": [
  {
   "cell_type": "markdown",
   "id": "2c1362e1",
   "metadata": {},
   "source": [
    "********DAY 11********\n",
    "Python coding question:\n",
    "\n",
    "Given a string, return a string where for every character in the original there are three characters\n",
    "paper_doll('Hello') --> 'HHHeeellllllooo'\n",
    "paper_doll('Mississippi') --> 'MMMiiissssssiiippppppiii'# "
   ]
  },
  {
   "cell_type": "code",
   "execution_count": 1,
   "id": "1a809746",
   "metadata": {},
   "outputs": [],
   "source": [
    "def making_thrice(word):\n",
    "     result=\"\"\n",
    "     for letter in word:\n",
    "          result+=letter*3\n",
    "     return result\n"
   ]
  },
  {
   "cell_type": "code",
   "execution_count": 2,
   "id": "95d34290",
   "metadata": {},
   "outputs": [
    {
     "name": "stdout",
     "output_type": "stream",
     "text": [
      "HHHeeellllllooo\n"
     ]
    }
   ],
   "source": [
    "print(making_thrice('Hello'))"
   ]
  },
  {
   "cell_type": "code",
   "execution_count": null,
   "id": "1de04037",
   "metadata": {},
   "outputs": [],
   "source": []
  }
 ],
 "metadata": {
  "kernelspec": {
   "display_name": "Python 3",
   "language": "python",
   "name": "python3"
  },
  "language_info": {
   "codemirror_mode": {
    "name": "ipython",
    "version": 3
   },
   "file_extension": ".py",
   "mimetype": "text/x-python",
   "name": "python",
   "nbconvert_exporter": "python",
   "pygments_lexer": "ipython3",
   "version": "3.8.8"
  }
 },
 "nbformat": 4,
 "nbformat_minor": 5
}
