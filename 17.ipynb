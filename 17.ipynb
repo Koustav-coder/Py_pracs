{
 "cells": [
  {
   "cell_type": "markdown",
   "id": "2133b1a2",
   "metadata": {},
   "source": [
    "# ********DAY 17********\n",
    "Python coding question:\n",
    "\n",
    "Use a List Comprehension to create a list of all numbers between 1 and 50 that are divisible by 3.\n"
   ]
  },
  {
   "cell_type": "code",
   "execution_count": 3,
   "id": "b02cbd2a",
   "metadata": {},
   "outputs": [
    {
     "name": "stdout",
     "output_type": "stream",
     "text": [
      "[3, 6, 9, 12, 15, 18, 21, 24, 27, 30, 33, 36, 39, 42, 45, 48]\n"
     ]
    }
   ],
   "source": [
    "=[i for i in range(1,51) if i%3==0]\n",
    "print(b)"
   ]
  },
  {
   "cell_type": "code",
   "execution_count": null,
   "id": "c2569345",
   "metadata": {},
   "outputs": [],
   "source": []
  }
 ],
 "metadata": {
  "kernelspec": {
   "display_name": "Python 3",
   "language": "python",
   "name": "python3"
  },
  "language_info": {
   "codemirror_mode": {
    "name": "ipython",
    "version": 3
   },
   "file_extension": ".py",
   "mimetype": "text/x-python",
   "name": "python",
   "nbconvert_exporter": "python",
   "pygments_lexer": "ipython3",
   "version": "3.8.8"
  }
 },
 "nbformat": 4,
 "nbformat_minor": 5
}
