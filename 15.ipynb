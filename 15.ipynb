{
 "cells": [
  {
   "cell_type": "markdown",
   "id": "410f1ed4",
   "metadata": {},
   "source": [
    "# ********DAY 15********\n",
    "Python coding question:\n",
    "\n",
    "Print only the words that start with \"s\" in a sentence.\n",
    "\n",
    "Input:\n",
    "Salad is healthy snack.\n",
    "\n",
    "Output:\n",
    "Salad\n",
    "snack"
   ]
  },
  {
   "cell_type": "code",
   "execution_count": 1,
   "id": "fa93f213",
   "metadata": {},
   "outputs": [],
   "source": [
    "def word_s(str):\n",
    "    for i in str.split(\" \"):\n",
    "        if i.lower().startswith(\"s\"):\n",
    "            print(i)"
   ]
  },
  {
   "cell_type": "code",
   "execution_count": 2,
   "id": "7d64f5fc",
   "metadata": {},
   "outputs": [
    {
     "name": "stdout",
     "output_type": "stream",
     "text": [
      "Salad\n",
      "snack.\n"
     ]
    }
   ],
   "source": [
    "word_s(\"Salad is healthy snack.\")"
   ]
  },
  {
   "cell_type": "code",
   "execution_count": null,
   "id": "5b41fc88",
   "metadata": {},
   "outputs": [],
   "source": []
  }
 ],
 "metadata": {
  "kernelspec": {
   "display_name": "Python 3",
   "language": "python",
   "name": "python3"
  },
  "language_info": {
   "codemirror_mode": {
    "name": "ipython",
    "version": 3
   },
   "file_extension": ".py",
   "mimetype": "text/x-python",
   "name": "python",
   "nbconvert_exporter": "python",
   "pygments_lexer": "ipython3",
   "version": "3.8.8"
  }
 },
 "nbformat": 4,
 "nbformat_minor": 5
}
