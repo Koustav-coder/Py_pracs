{
 "cells": [
  {
   "cell_type": "markdown",
   "id": "4f855027",
   "metadata": {},
   "source": [
    "# ********DAY 13********\n",
    "Python coding question:\n",
    "Write a function that capitalizes the first and fourth letters of a name.\n",
    "\n",
    "TC 1:capitalize(\"chandrali\")\n",
    "  'ChaNdrali'\n",
    "TC 2:capitalize(\"roy\")\n",
    "   'Name is too short!'"
   ]
  },
  {
   "cell_type": "code",
   "execution_count": 1,
   "id": "9f6f33e6",
   "metadata": {},
   "outputs": [],
   "source": [
    "def name(word):\n",
    "    if len(word)<=3:\n",
    "        return 'Name is too short!'\n",
    "    else:\n",
    "        word[0],word[3]=word[0].upper(),word[3].upper()\n",
    "    return \"\".join(word)\n",
    "    "
   ]
  },
  {
   "cell_type": "code",
   "execution_count": 2,
   "id": "fc27f900",
   "metadata": {},
   "outputs": [
    {
     "name": "stdout",
     "output_type": "stream",
     "text": [
      "Py-Spark\n"
     ]
    }
   ],
   "source": [
    "print(name(list('py-spark')))"
   ]
  },
  {
   "cell_type": "code",
   "execution_count": 3,
   "id": "a8aa55af",
   "metadata": {},
   "outputs": [
    {
     "name": "stdout",
     "output_type": "stream",
     "text": [
      "Name is too short!\n"
     ]
    }
   ],
   "source": [
    "print(name(list('dev')))"
   ]
  },
  {
   "cell_type": "code",
   "execution_count": null,
   "id": "dac3a143",
   "metadata": {},
   "outputs": [],
   "source": []
  }
 ],
 "metadata": {
  "kernelspec": {
   "display_name": "Python 3",
   "language": "python",
   "name": "python3"
  },
  "language_info": {
   "codemirror_mode": {
    "name": "ipython",
    "version": 3
   },
   "file_extension": ".py",
   "mimetype": "text/x-python",
   "name": "python",
   "nbconvert_exporter": "python",
   "pygments_lexer": "ipython3",
   "version": "3.8.8"
  }
 },
 "nbformat": 4,
 "nbformat_minor": 5
}
