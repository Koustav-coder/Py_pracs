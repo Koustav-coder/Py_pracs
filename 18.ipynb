{
 "cells": [
  {
   "cell_type": "markdown",
   "id": "9018826c",
   "metadata": {},
   "source": [
    "# ********DAY 18********\n",
    "Python coding question:\n",
    "\n",
    "Given an integer n, return True if n is within 10 of either 100 or 200.\n",
    "abs(90)--True\n",
    "abs(220)--False\n"
   ]
  },
  {
   "cell_type": "code",
   "execution_count": 1,
   "id": "e372c120",
   "metadata": {},
   "outputs": [],
   "source": [
    "def abs(a):\n",
    "    if a in [90,110] or a in [190,210]:\n",
    "        print(\"True\")\n",
    "    else:\n",
    "        print(\"False\")\n"
   ]
  },
  {
   "cell_type": "code",
   "execution_count": 2,
   "id": "35c04534",
   "metadata": {},
   "outputs": [
    {
     "name": "stdout",
     "output_type": "stream",
     "text": [
      "True\n"
     ]
    }
   ],
   "source": [
    "abs(210)"
   ]
  },
  {
   "cell_type": "code",
   "execution_count": 4,
   "id": "f7bdaadc",
   "metadata": {},
   "outputs": [
    {
     "name": "stdout",
     "output_type": "stream",
     "text": [
      "True\n"
     ]
    }
   ],
   "source": [
    "abs(90)"
   ]
  },
  {
   "cell_type": "code",
   "execution_count": 5,
   "id": "946ae2d3",
   "metadata": {},
   "outputs": [
    {
     "name": "stdout",
     "output_type": "stream",
     "text": [
      "False\n"
     ]
    }
   ],
   "source": [
    "abs(220)"
   ]
  },
  {
   "cell_type": "code",
   "execution_count": null,
   "id": "54a6ef1d",
   "metadata": {},
   "outputs": [],
   "source": []
  }
 ],
 "metadata": {
  "kernelspec": {
   "display_name": "Python 3",
   "language": "python",
   "name": "python3"
  },
  "language_info": {
   "codemirror_mode": {
    "name": "ipython",
    "version": 3
   },
   "file_extension": ".py",
   "mimetype": "text/x-python",
   "name": "python",
   "nbconvert_exporter": "python",
   "pygments_lexer": "ipython3",
   "version": "3.8.8"
  }
 },
 "nbformat": 4,
 "nbformat_minor": 5
}
