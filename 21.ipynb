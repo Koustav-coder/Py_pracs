{
 "cells": [
  {
   "cell_type": "markdown",
   "id": "ad2f582f",
   "metadata": {},
   "source": [
    "# ********DAY 21********\n",
    "Python coding question:\n",
    "\n",
    "Write a Python code to accept a string and count the number of vowels and consonants.\n",
    "Print them separately.\n"
   ]
  },
  {
   "cell_type": "code",
   "execution_count": 1,
   "id": "e010c668",
   "metadata": {},
   "outputs": [
    {
     "name": "stdout",
     "output_type": "stream",
     "text": [
      "Enter a string : SHIFT the CTRL to me, I will ALT the world;\n",
      "No.of Vowels :  9\n",
      "No.of Consonants :  25\n"
     ]
    }
   ],
   "source": [
    "def func_VC(string):\n",
    "    Vowels_count = 0\n",
    "    Consonant_Count = 0\n",
    "    number_Count = 0\n",
    "    others = 0\n",
    "    for char in string:\n",
    "        if char in \"AEIOUaeiou\":\n",
    "            Vowels_count+=1\n",
    "        elif '0'<=char<='9':\n",
    "            continue\n",
    "        elif char == \" \":\n",
    "            continue\n",
    "        else:\n",
    "            Consonant_Count+=1\n",
    "    print(\"No.of Vowels : \",Vowels_count)\n",
    "    print(\"No.of Consonants : \",Consonant_Count)\n",
    "string = input(\"Enter a string : \")\n",
    "func_VC(string)\n"
   ]
  },
  {
   "cell_type": "code",
   "execution_count": null,
   "id": "d611e803",
   "metadata": {},
   "outputs": [],
   "source": []
  }
 ],
 "metadata": {
  "kernelspec": {
   "display_name": "Python 3",
   "language": "python",
   "name": "python3"
  },
  "language_info": {
   "codemirror_mode": {
    "name": "ipython",
    "version": 3
   },
   "file_extension": ".py",
   "mimetype": "text/x-python",
   "name": "python",
   "nbconvert_exporter": "python",
   "pygments_lexer": "ipython3",
   "version": "3.8.8"
  }
 },
 "nbformat": 4,
 "nbformat_minor": 5
}
